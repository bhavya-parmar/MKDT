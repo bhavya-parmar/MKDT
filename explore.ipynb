{
 "cells": [
  {
   "cell_type": "code",
   "execution_count": 2,
   "metadata": {},
   "outputs": [
    {
     "name": "stdout",
     "output_type": "stream",
     "text": [
      "ConvNet(\n",
      "  (features): Sequential(\n",
      "    (0): Conv2d(3, 128, kernel_size=(3, 3), stride=(1, 1), padding=(1, 1))\n",
      "    (1): GroupNorm(128, 128, eps=1e-05, affine=True)\n",
      "    (2): ReLU(inplace=True)\n",
      "    (3): AvgPool2d(kernel_size=2, stride=2, padding=0)\n",
      "    (4): Conv2d(128, 128, kernel_size=(3, 3), stride=(1, 1), padding=(1, 1))\n",
      "    (5): GroupNorm(128, 128, eps=1e-05, affine=True)\n",
      "    (6): ReLU(inplace=True)\n",
      "    (7): AvgPool2d(kernel_size=2, stride=2, padding=0)\n",
      "    (8): Conv2d(128, 128, kernel_size=(3, 3), stride=(1, 1), padding=(1, 1))\n",
      "    (9): GroupNorm(128, 128, eps=1e-05, affine=True)\n",
      "    (10): ReLU(inplace=True)\n",
      "    (11): AvgPool2d(kernel_size=2, stride=2, padding=0)\n",
      "  )\n",
      "  (classifier): Linear(in_features=2048, out_features=128, bias=True)\n",
      ")\n"
     ]
    }
   ],
   "source": [
    "from networks import ConvNet\n",
    "from utils import get_default_convnet_setting\n",
    "net_width, net_depth, net_act, net_norm, net_pooling = get_default_convnet_setting()\n",
    "model = ConvNet(channel=3, num_classes=128, net_depth=net_depth, net_act=net_act, net_width=net_width, net_norm=net_norm, net_pooling=net_pooling)\n",
    "print(model)"
   ]
  },
  {
   "cell_type": "code",
   "execution_count": 3,
   "metadata": {},
   "outputs": [],
   "source": [
    "import torch\n",
    "import torchvision \n",
    "from torchvision import transforms\n",
    "from PIL import Image\n",
    "\n",
    "def ColourDistortion(s=1.0):\n",
    "    # s is the strength of color distortion.\n",
    "    color_jitter = transforms.ColorJitter(0.8*s, 0.8*s, 0.8*s, 0.2*s)\n",
    "    rnd_color_jitter = transforms.RandomApply([color_jitter], p=0.8)\n",
    "    rnd_gray = transforms.RandomGrayscale(p=0.2)\n",
    "    color_distort = transforms.Compose([rnd_color_jitter, rnd_gray])\n",
    "    return color_distort\n",
    "\n",
    "\n",
    "CACHED_MEAN_STD = {\n",
    "    'cifar10': ((0.4914, 0.4822, 0.4465), (0.2470, 0.2435, 0.2616)),\n",
    "    'cifar100': ((0.5071, 0.4865, 0.4409), (0.2673, 0.2564, 0.2762)),\n",
    "    'stl10': ((0.4467, 0.4398, 0.4066), (0.2603, 0.2566, 0.2713)),\n",
    "    'imagenet': ((0.485, 0.456, 0.406), (0.229, 0.224, 0.225)),\n",
    "    'mnist':((0.1307), (0.3081))\n",
    "}\n",
    "\n",
    "transform_train = transforms.Compose([\n",
    "        #transforms.RandomResizedCrop((32,32), interpolation=Image.BICUBIC),\n",
    "        transforms.RandomHorizontalFlip(),\n",
    "        ColourDistortion(s=0.5),\n",
    "        transforms.ToTensor(),\n",
    "        transforms.Normalize(*CACHED_MEAN_STD[\"cifar10\"])\n",
    "    ])\n",
    "\n",
    "transform = transforms.Compose([transforms.ToTensor(), transforms.Normalize(*CACHED_MEAN_STD[\"cifar10\"])])\n",
    "dataset = torchvision.datasets.CIFAR10(\"/data\", train=True, transform=transform)"
   ]
  },
  {
   "cell_type": "code",
   "execution_count": 4,
   "metadata": {},
   "outputs": [],
   "source": [
    "labels_all = torch.load(\"/home/sjoshi/mtt-distillation/target_rep/CIFAR10/train_rep_r50_128_dim.pt\", map_location=\"cpu\")\n"
   ]
  },
  {
   "cell_type": "code",
   "execution_count": 5,
   "metadata": {},
   "outputs": [],
   "source": [
    "class SoftLabelDataset(torch.utils.data.Dataset):\n",
    "    def __init__(self, img_dataset, label_tensor, subset_idx=None):\n",
    "        super().__init__()\n",
    "        self.img_dataset = img_dataset\n",
    "        self.label_tensor = label_tensor\n",
    "        assert len(self.img_dataset) == len(self.label_tensor)\n",
    "        self.subset_idx = subset_idx\n",
    "        if self.subset_idx is None:\n",
    "            self.subset_idx = range(len(self.img_dataset))\n",
    "        \n",
    "    def __getitem__(self, i):\n",
    "        idx = self.subset_idx[i]\n",
    "        return (self.img_dataset[idx][0], self.label_tensor[idx])\n",
    "    \n",
    "    def __len__(self):\n",
    "        return len(self.subset_idx)\n",
    "    \n",
    "class TensorDataset(torch.utils.data.Dataset):\n",
    "    def __init__(self, img_tensor, label_tensor, subset_idx=None):\n",
    "        super().__init__()\n",
    "        self.img_tensor = img_tensor\n",
    "        self.label_tensor = label_tensor\n",
    "        assert len(self.img_tensor) == len(self.label_tensor)\n",
    "        self.subset_idx = subset_idx\n",
    "        if self.subset_idx is None:\n",
    "            self.subset_idx = range(len(self.img_tensor))\n",
    "        \n",
    "    def __getitem__(self, i):\n",
    "        idx = self.subset_idx[i]\n",
    "        return (self.img_tensor[idx], self.label_tensor[idx])\n",
    "    \n",
    "    def __len__(self):\n",
    "        return len(self.subset_idx)"
   ]
  },
  {
   "cell_type": "code",
   "execution_count": 6,
   "metadata": {},
   "outputs": [
    {
     "name": "stdout",
     "output_type": "stream",
     "text": [
      "length of dset 50000\n"
     ]
    }
   ],
   "source": [
    "import random \n",
    "import pickle \n",
    "\n",
    "with open(\"/home/sjoshi/mtt-distillation/sorted_idx/sorted_indices_CIFAR100.pkl\", \"rb\") as f:\n",
    "    loss_ranking = pickle.load(f)\n",
    "    \n",
    "with open(\"/home/sjoshi/mtt-distillation/init/cifar10/random_50ipc.pkl\", \"rb\") as f:\n",
    "    subset_idx = pickle.load(f)\n",
    "subset_idx = random.sample(range(50000), 50000)\n",
    "# with open(\"/data/file_transfer/cifar100-0.02-kmeans-sas-indices.pkl\", \"rb\") as f:\n",
    "#     subset_idx = pickle.load(f)\n",
    "# with open(\"/home/sjoshi/mtt-distillation/init/cifar100/random_10ipc.pkl\", \"rb\") as f:\n",
    "#     subset_idx = pickle.load(f)\n",
    "dst_train = SoftLabelDataset(dataset, labels_all, subset_idx)\n",
    "print(\"length of dset\", len(dst_train))"
   ]
  },
  {
   "cell_type": "code",
   "execution_count": 21,
   "metadata": {},
   "outputs": [],
   "source": [
    "# # # images_init = torch.load(\"/home/sjoshi/krrst_orig/results/2024-01-0814:46:15.950178_CIFAR100_random_5000_new_arch/x_syn_initial.pt\")\n",
    "# # # labels_init = torch.load(\"/home/sjoshi/krrst_orig/results/2024-01-0814:46:15.950178_CIFAR100_random_5000_new_arch/y_syn_initial.pt\")\n",
    "# images_syn = torch.load(\"/home/sjoshi/krrst_orig/results/2024-01-0814:46:15.950178_CIFAR100_random_5000_new_arch/x_syn_final.pt\")\n",
    "# labels_syn = torch.load(\"/home/sjoshi/krrst_orig/results/2024-01-0814:46:15.950178_CIFAR100_random_5000_new_arch/y_syn_final.pt\")\n",
    "\n",
    "images_best = torch.load(\"/home/sjoshi/mtt-distillation/logged_files/CIFAR10/2024-01-15_13:21:48None/images_5000.pt\")\n",
    "labels_best = torch.load(\"/home/sjoshi/mtt-distillation/logged_files/CIFAR10/2024-01-15_13:21:48None/labels_5000.pt\")\n",
    "# # images_init = torch.load(\"/home/sjoshi/krrst_orig/results/2024-01-0814:47:42.550038_CIFAR100_high_loss_5000_new_arch/x_syn_initial.pt\")\n",
    "# # labels_init = torch.load(\"/home/sjoshi/krrst_orig/results/2024-01-0814:47:42.550038_CIFAR100_high_loss_5000_new_arch/y_syn_initial.pt\")\n",
    "# # # images_syn = torch.load(\"/home/sjoshi/krrst_orig/results/2024-01-0814:47:42.550038_CIFAR100_high_loss_5000_new_arch/x_syn_final.pt\")\n",
    "# # # labels_syn = torch.load(\"/home/sjoshi/krrst_orig/results/2024-01-0814:47:42.550038_CIFAR100_high_loss_5000_new_arch/y_syn_final.pt\")\n",
    "\n",
    "\n",
    "dst_train = TensorDataset(images_best, labels_best)"
   ]
  },
  {
   "cell_type": "code",
   "execution_count": 8,
   "metadata": {},
   "outputs": [],
   "source": [
    "def rescale(tensor_img):\n",
    "    tensor_img = tensor_img.clone()\n",
    "    rescaled_imgs = torch.empty_like(tensor_img)\n",
    "    mean, std = CACHED_MEAN_STD[\"cifar100\"]\n",
    "    for i, (t, m, s) in enumerate(zip(tensor_img, mean, std)):\n",
    "        rescaled_imgs[i] = t.mul(s).add(m)\n",
    "    rescaled_imgs[rescaled_imgs < 0] = 0\n",
    "    rescaled_imgs[rescaled_imgs > 1] = 1\n",
    "    display(transforms.ToPILImage()(rescaled_imgs).resize((96,96)))"
   ]
  },
  {
   "cell_type": "code",
   "execution_count": 9,
   "metadata": {},
   "outputs": [
    {
     "data": {
      "image/png": "[encoded data removed]",
      "text/plain": [
       "<PIL.Image.Image image mode=RGB size=96x96 at 0x7FD0DFFE97C0>"
      ]
     },
     "metadata": {},
     "output_type": "display_data"
    },
    {
     "data": {
      "image/png": "[encoded data removed]",
      "text/plain": [
       "<PIL.Image.Image image mode=RGB size=96x96 at 0x7FCF78DE58E0>"
      ]
     },
     "metadata": {},
     "output_type": "display_data"
    },
    {
     "data": {
      "image/png": "[encoded data removed]",
      "text/plain": [
       "<PIL.Image.Image image mode=RGB size=96x96 at 0x7FCF78FDF670>"
      ]
     },
     "metadata": {},
     "output_type": "display_data"
    }
   ],
   "source": [
    "i = 8\n",
    "rescale(dst_train[i][0])\n",
    "rescale(images_best[i])\n",
    "rescale(images_best[i] - dst_train[i][0])"
   ]
  },
  {
   "cell_type": "code",
   "execution_count": 10,
   "metadata": {},
   "outputs": [
    {
     "name": "stdout",
     "output_type": "stream",
     "text": [
      "500\n"
     ]
    }
   ],
   "source": [
    "from networks import ConvNet\n",
    "from utils import get_default_convnet_setting\n",
    "trainloader = torch.utils.data.DataLoader(dst_train, batch_size=256, shuffle=True, num_workers=4, pin_memory=True)\n",
    "device = torch.device(\"cuda:1\")\n",
    "net_width, net_depth, net_act, net_norm, net_pooling = get_default_convnet_setting()\n",
    "model = ConvNet(channel=3, num_classes=128, net_depth=net_depth, net_act=net_act, net_width=net_width, net_norm=net_norm, net_pooling=net_pooling)\n",
    "print(len(dst_train))"
   ]
  },
  {
   "cell_type": "code",
   "execution_count": 167,
   "metadata": {},
   "outputs": [],
   "source": [
    "from typing import Any\n",
    "from torch.utils.data import Dataset \n",
    "\n",
    "class ChangeLabels(Dataset):\n",
    "    def __init__(self, dataset, new_labels):\n",
    "        super().__init__()\n",
    "        self.dataset = dataset \n",
    "        self.new_labels = new_labels\n",
    "        \n",
    "    def __getitem__(self, index: Any) -> Any:\n",
    "        return self.dataset[index][0], self.new_labels[index]\n",
    "    \n",
    "    def __len__(self):\n",
    "        return len(self.dataset)\n",
    "        \n",
    "    "
   ]
  },
  {
   "cell_type": "code",
   "execution_count": 70,
   "metadata": {},
   "outputs": [],
   "source": [
    "kmeans_256 = torch.load(\"/home/sjoshi/mtt-distillation/target_rep/CIFAR100/train_rep_kmeans_256_plabels.pt\")"
   ]
  },
  {
   "cell_type": "code",
   "execution_count": 227,
   "metadata": {},
   "outputs": [],
   "source": [
    "dst_train = ChangeLabels(dataset, kmeans_256)\n",
    "trainloader = torch.utils.data.DataLoader(dataset, batch_size=256, shuffle=True, num_workers=4, pin_memory=True)"
   ]
  },
  {
   "cell_type": "code",
   "execution_count": 22,
   "metadata": {},
   "outputs": [
    {
     "name": "stderr",
     "output_type": "stream",
     "text": [
      "pre-training:  10%|█         | 8/80 [00:03<00:30,  2.34it/s, loss: 0.006650472469627858]Exception ignored in: <function _releaseLock at 0x7fd0e21be550>\n",
      "Traceback (most recent call last):\n",
      "  File \"/home/sjoshi/anaconda3/envs/distillation/lib/python3.9/logging/__init__.py\", line 227, in _releaseLock\n",
      "    def _releaseLock():\n",
      "KeyboardInterrupt: \n",
      "pre-training: 100%|██████████| 80/80 [00:36<00:00,  2.20it/s, loss: 0.00018886689690407365]\n"
     ]
    }
   ],
   "source": [
    "from torch import nn, optim\n",
    "import torch.nn.functional as F \n",
    "from tqdm import tqdm, trange\n",
    "from utils import ParamDiffAug\n",
    "\n",
    "dsa_param = ParamDiffAug()\n",
    "criterion = nn.MSELoss()\n",
    "#criterion = nn.CrossEntropyLoss()\n",
    "\n",
    "model = model.to(device)\n",
    "\n",
    "optimizer = optim.SGD(model.parameters(), lr=0.31336769461631775, momentum=0.9, weight_decay=1e-4)\n",
    "pbar = trange(80, desc=\"pre-training\")\n",
    "for epoch in pbar:\n",
    "    loss_avg, num_exp = 0, 0\n",
    "    for datum in trainloader:\n",
    "        img = datum[0].float().to(device)\n",
    "        lab = datum[1].float().to(device)\n",
    "        #lab = datum[1].to(device)\n",
    "        #indices = indices.to(device)\n",
    "        \n",
    "        n_b = img.shape[0]\n",
    "\n",
    "        output = model(img)\n",
    "        \n",
    "        loss = criterion(output, lab)\n",
    "                \n",
    "        loss_avg += loss.item()*n_b\n",
    "        num_exp += n_b\n",
    "\n",
    "        optimizer.zero_grad()\n",
    "        loss.backward()\n",
    "        optimizer.step()\n",
    "\n",
    "    loss_avg /= num_exp\n",
    "    pbar.set_postfix_str(f\"loss: {loss_avg}\")"
   ]
  },
  {
   "cell_type": "code",
   "execution_count": 178,
   "metadata": {},
   "outputs": [],
   "source": [
    "from typing import Any\n",
    "from torch.utils.data import Dataset \n",
    "class DatasetWithIndices(Dataset):\n",
    "    def __init__(self, dataset) -> None:\n",
    "        super().__init__()\n",
    "        self.dataset = dataset\n",
    "    \n",
    "    def __getitem__(self, index: Any) -> Any:\n",
    "        return index, self.dataset[index]\n",
    "\n",
    "    def __len__(self):\n",
    "        return len(self.dataset)\n",
    "metric_trainloader = torch.utils.data.DataLoader(DatasetWithIndices(dataset), batch_size=128, shuffle=True, num_workers=4, pin_memory=True)"
   ]
  },
  {
   "cell_type": "code",
   "execution_count": 109,
   "metadata": {},
   "outputs": [
    {
     "name": "stderr",
     "output_type": "stream",
     "text": [
      "pre-training:   0%|          | 0/80 [00:00<?, ?it/s]\n"
     ]
    },
    {
     "ename": "NameError",
     "evalue": "name 'metric_trainloader' is not defined",
     "output_type": "error",
     "traceback": [
      "\u001b[0;31m---------------------------------------------------------------------------\u001b[0m",
      "\u001b[0;31mNameError\u001b[0m                                 Traceback (most recent call last)",
      "Cell \u001b[0;32mIn[109], line 11\u001b[0m\n\u001b[1;32m      9\u001b[0m \u001b[38;5;28;01mfor\u001b[39;00m epoch \u001b[38;5;129;01min\u001b[39;00m pbar:\n\u001b[1;32m     10\u001b[0m     loss_avg, num_exp \u001b[38;5;241m=\u001b[39m \u001b[38;5;241m0\u001b[39m, \u001b[38;5;241m0\u001b[39m\n\u001b[0;32m---> 11\u001b[0m     \u001b[38;5;28;01mfor\u001b[39;00m idx, datum \u001b[38;5;129;01min\u001b[39;00m \u001b[43mmetric_trainloader\u001b[49m:\n\u001b[1;32m     12\u001b[0m         img \u001b[38;5;241m=\u001b[39m datum[\u001b[38;5;241m0\u001b[39m]\u001b[38;5;241m.\u001b[39mfloat()\u001b[38;5;241m.\u001b[39mto(device)\n\u001b[1;32m     13\u001b[0m         n_b \u001b[38;5;241m=\u001b[39m img\u001b[38;5;241m.\u001b[39mshape[\u001b[38;5;241m0\u001b[39m]\n",
      "\u001b[0;31mNameError\u001b[0m: name 'metric_trainloader' is not defined"
     ]
    }
   ],
   "source": [
    "from torch import nn, optim\n",
    "from tqdm import tqdm \n",
    "import torch.nn.functional as F\n",
    "\n",
    "\n",
    "model = model.to(device)\n",
    "optimizer = optim.SGD(model.parameters(), lr=0.24195 momentum=0.9, weight_decay=1e-3)\n",
    "pbar = tqdm(range(80), desc=\"pre-training\")\n",
    "for epoch in pbar:\n",
    "    loss_avg, num_exp = 0, 0\n",
    "    for idx, datum in metric_trainloader:\n",
    "        img = datum[0].float().to(device)\n",
    "        n_b = img.shape[0]\n",
    "        student_z = model(img)\n",
    "        \n",
    "        student_dist = F.cosine_similarity(student_z.unsqueeze(1), student_z.unsqueeze(0), dim=2)\n",
    "        teacher_z = labels_all[idx].to(device)\n",
    "        teacher_dist = F.cosine_similarity(teacher_z.unsqueeze(1), teacher_z.unsqueeze(0), dim=2)\n",
    "        loss = torch.log(torch.sum(torch.exp(student_dist - teacher_dist)))\n",
    "\n",
    "        loss_avg += loss.item()\n",
    "        num_exp += n_b\n",
    "\n",
    "        optimizer.zero_grad()\n",
    "        loss.backward()\n",
    "        optimizer.step()\n",
    "\n",
    "    loss_avg /= num_exp\n",
    "    pbar.set_postfix_str(f\"loss: {loss_avg}\")"
   ]
  },
  {
   "cell_type": "code",
   "execution_count": 23,
   "metadata": {},
   "outputs": [
    {
     "name": "stderr",
     "output_type": "stream",
     "text": [
      "encoding: 100%|██████████| 196/196 [00:02<00:00, 73.11it/s]"
     ]
    },
    {
     "name": "stdout",
     "output_type": "stream",
     "text": [
      "torch.Size([50000, 2048])\n",
      "torch.Size([50000])\n"
     ]
    },
    {
     "name": "stderr",
     "output_type": "stream",
     "text": [
      "\n"
     ]
    }
   ],
   "source": [
    "from torch.utils.data import Subset \n",
    "import random\n",
    "\n",
    "untrained_model = ConvNet(channel=3, num_classes=128, net_depth=net_depth, net_act=net_act, net_width=net_width, net_norm=net_norm, net_pooling=net_pooling)\n",
    "untrained_model = untrained_model.to(device)\n",
    "Z = []\n",
    "Y = []\n",
    "random.seed(0)\n",
    "random_subset = list(random.sample(range(50000), 50000))\n",
    "clf_cifar100 = Subset(torchvision.datasets.CIFAR10(\"/data\", transform=transform), indices=random_subset)\n",
    "#clf_cifar100 = torchvision.datasets.CIFAR100(\"/data\", transform=transform)\n",
    "clf_dataloader = torch.utils.data.DataLoader(clf_cifar100, batch_size=256, shuffle=False, num_workers=4, pin_memory=True)\n",
    "with torch.no_grad():\n",
    "    for X, y in tqdm(clf_dataloader, desc=\"encoding\"):\n",
    "        Z.append(model.features(X.to(device)).view(-1, 2048))\n",
    "        #Z.append(model(X.to(device)))\n",
    "        Y.append(y.to(device))\n",
    "Z = torch.cat(Z, dim=0)\n",
    "Y = torch.cat(Y, dim=0)\n",
    "print(Z.shape)\n",
    "print(Y.shape)"
   ]
  },
  {
   "cell_type": "code",
   "execution_count": 16,
   "metadata": {},
   "outputs": [],
   "source": [
    "def train_clf(X, y, representation_dim, num_classes, device, reg_weight=1e-3, iter=500):\n",
    "    print('\\nL2 Regularization weight: %g' % reg_weight)\n",
    "\n",
    "    criterion = nn.CrossEntropyLoss()\n",
    "    n_lbfgs_steps = iter\n",
    "\n",
    "    # Should be reset after each epoch for a completely independent evaluation\n",
    "    clf = nn.Linear(representation_dim, num_classes).to(device)\n",
    "    clf_optimizer = optim.LBFGS(clf.parameters())\n",
    "    clf.train()\n",
    "\n",
    "    t = tqdm(range(n_lbfgs_steps), desc='Loss: **** | Train Acc: ****% ', bar_format='{desc}{bar}{r_bar}')\n",
    "    for _ in t:\n",
    "        def closure():\n",
    "            clf_optimizer.zero_grad()\n",
    "            raw_scores = clf(X)\n",
    "            loss = criterion(raw_scores, y)\n",
    "            loss += reg_weight * clf.weight.pow(2).sum()\n",
    "            loss.backward()\n",
    "\n",
    "            _, predicted = raw_scores.max(1)\n",
    "            correct = predicted.eq(y).sum().item()\n",
    "\n",
    "            t.set_description('Loss: %.3f | Train Acc: %.3f%% ' % (loss, 100. * correct / y.shape[0]))\n",
    "\n",
    "            return loss\n",
    "\n",
    "        clf_optimizer.step(closure)\n",
    "\n",
    "    return clf\n",
    "\n",
    "\n",
    "def test_clf(testloader, device, net, clf, feature=False):\n",
    "    criterion = nn.CrossEntropyLoss()\n",
    "    net.eval()\n",
    "    clf.eval()\n",
    "    test_clf_loss = 0\n",
    "    correct = 0\n",
    "    total = 0\n",
    "    acc_per_point = []\n",
    "    with torch.no_grad():\n",
    "        t = tqdm(enumerate(testloader), total=len(testloader), desc='Loss: **** | Test Acc: ****% ',\n",
    "                 bar_format='{desc}{bar}{r_bar}')\n",
    "        for batch_idx, (inputs, targets) in t:\n",
    "            inputs, targets = inputs.to(device), targets.to(device)\n",
    "            representation = None\n",
    "            if feature:\n",
    "                representation = net.features(inputs).view(-1, 2048)\n",
    "            else:\n",
    "                #representation = net.features(inputs).view(-1, 2048)\n",
    "                representation = net(inputs)\n",
    "            # test_repr_loss = criterion(representation, targets)\n",
    "            raw_scores = clf(representation)\n",
    "            clf_loss = criterion(raw_scores, targets)\n",
    "            test_clf_loss += clf_loss.item()\n",
    "            _, predicted = raw_scores.max(1)\n",
    "            total += targets.size(0)\n",
    "            acc_per_point.append(predicted.eq(targets))\n",
    "            correct += acc_per_point[-1].sum().item()\n",
    "            t.set_description('Loss: %.3f | Test Acc: %.3f%% ' % (test_clf_loss / (batch_idx + 1), 100. * correct / total))\n",
    "            \n",
    "    acc = 100. * correct / total\n",
    "    return acc, torch.cat(acc_per_point, dim=0).cpu().numpy()\n",
    "\n",
    "def top5accuracy(output, target, topk=(5,)):\n",
    "    \"\"\"Computes the accuracy over the k top predictions for the specified values of k\"\"\"\n",
    "    with torch.no_grad():\n",
    "        maxk = max(topk)\n",
    "        batch_size = target.size(0)\n",
    "\n",
    "        _, pred = output.topk(maxk, 1, True, True)\n",
    "        pred = pred.t()\n",
    "        correct = pred.eq(target.view(1, -1).expand_as(pred))\n",
    "\n",
    "        res = []\n",
    "        print(correct)\n",
    "        for k in topk:\n",
    "            correct_k = correct[:k].contiguous().view(-1).float().sum(0, keepdim=True)\n",
    "            res.append(correct_k.mul_(100.0 / batch_size).item())\n",
    "        return res"
   ]
  },
  {
   "cell_type": "code",
   "execution_count": 17,
   "metadata": {},
   "outputs": [],
   "source": [
    "cifar100_test = torchvision.datasets.CIFAR10(\"/data\", train=False, transform=transform)\n",
    "testloader = torch.utils.data.DataLoader(cifar100_test, batch_size=256, shuffle=False, num_workers=4, pin_memory=True)"
   ]
  },
  {
   "cell_type": "code",
   "execution_count": 24,
   "metadata": {},
   "outputs": [
    {
     "name": "stdout",
     "output_type": "stream",
     "text": [
      "\n",
      "L2 Regularization weight: 0.001\n"
     ]
    },
    {
     "name": "stderr",
     "output_type": "stream",
     "text": [
      "Loss: 0.880 | Train Acc: 74.336% : ██████████| 100/100 [00:15<00:00,  6.55it/s]\n"
     ]
    }
   ],
   "source": [
    "clf = train_clf(Z, Y, Z.shape[1], 10, device, iter=100)"
   ]
  },
  {
   "cell_type": "code",
   "execution_count": 25,
   "metadata": {},
   "outputs": [
    {
     "name": "stderr",
     "output_type": "stream",
     "text": [
      "Loss: 0.954 | Test Acc: 67.140% : ██████████| 40/40 [00:00<00:00, 53.73it/s]\n"
     ]
    }
   ],
   "source": [
    "acc, acc_per_point = test_clf(testloader, device, model, clf, feature=True)\n",
    "#acc, acc_per_point = test_clf(clf_dataloader, device, model, clf, embed=False)"
   ]
  },
  {
   "cell_type": "code",
   "execution_count": null,
   "metadata": {},
   "outputs": [],
   "source": [
    "random_subset = random.sample(range(50000), 1000)\n",
    "clf = train_clf(labels_all.to(device)[random_subset], torch.tensor([dataset[i][1] for i in range(50000)]).to(device)[random_subset], labels_all.shape[1], 100, device, iter=500)\n"
   ]
  },
  {
   "cell_type": "code",
   "execution_count": null,
   "metadata": {},
   "outputs": [],
   "source": [
    "test_labels = torch.load(\"/home/sjoshi/mtt-distillation/target_rep/CIFAR100/test_rep_r50_128_dim.pt\", map_location=device)"
   ]
  },
  {
   "cell_type": "code",
   "execution_count": null,
   "metadata": {},
   "outputs": [
    {
     "name": "stderr",
     "output_type": "stream",
     "text": [
      "encoding: 100%|██████████| 40/40 [00:00<00:00, 48.16it/s]\n"
     ]
    }
   ],
   "source": [
    "from torch.utils.data import Subset \n",
    "import random\n",
    "\n",
    "test_Z = []\n",
    "random.seed(0)\n",
    "with torch.no_grad():\n",
    "    for X, y in tqdm(testloader, desc=\"encoding\"):\n",
    "        #test_Z.append(model.features(X.to(device)).view(-1, 2048))\n",
    "        test_Z.append(model(X.to(device)))\n",
    "test_Z = torch.cat(test_Z, dim=0)"
   ]
  },
  {
   "cell_type": "code",
   "execution_count": null,
   "metadata": {},
   "outputs": [
    {
     "ename": "RuntimeError",
     "evalue": "The size of tensor a (2048) must match the size of tensor b (128) at non-singleton dimension 0",
     "output_type": "error",
     "traceback": [
      "\u001b[0;31m---------------------------------------------------------------------------\u001b[0m",
      "\u001b[0;31mRuntimeError\u001b[0m                              Traceback (most recent call last)",
      "Cell \u001b[0;32mIn[36], line 3\u001b[0m\n\u001b[1;32m      1\u001b[0m train_mse_losses \u001b[38;5;241m=\u001b[39m []\n\u001b[1;32m      2\u001b[0m \u001b[38;5;28;01mfor\u001b[39;00m i \u001b[38;5;129;01min\u001b[39;00m \u001b[38;5;28mrange\u001b[39m(\u001b[38;5;241m50000\u001b[39m):\n\u001b[0;32m----> 3\u001b[0m     train_mse_losses\u001b[38;5;241m.\u001b[39mappend(torch\u001b[38;5;241m.\u001b[39mnorm(\u001b[43mZ\u001b[49m\u001b[43m[\u001b[49m\u001b[43mi\u001b[49m\u001b[43m]\u001b[49m\u001b[38;5;241;43m.\u001b[39;49m\u001b[43mcpu\u001b[49m\u001b[43m(\u001b[49m\u001b[43m)\u001b[49m\u001b[43m \u001b[49m\u001b[38;5;241;43m-\u001b[39;49m\u001b[43m \u001b[49m\u001b[43mlabels_all\u001b[49m\u001b[43m[\u001b[49m\u001b[43mi\u001b[49m\u001b[43m]\u001b[49m)\u001b[38;5;241m.\u001b[39mitem())\n",
      "\u001b[0;31mRuntimeError\u001b[0m: The size of tensor a (2048) must match the size of tensor b (128) at non-singleton dimension 0"
     ]
    }
   ],
   "source": [
    "train_mse_losses = []\n",
    "for i in range(50000):\n",
    "    train_mse_losses.append(torch.norm(Z[i].cpu() - labels_all[i]).item())"
   ]
  },
  {
   "cell_type": "code",
   "execution_count": 29,
   "metadata": {},
   "outputs": [],
   "source": [
    "cifar100_test_labels = [cifar100_test[i][1] for i in range(len(cifar100_test))]"
   ]
  },
  {
   "cell_type": "code",
   "execution_count": null,
   "metadata": {},
   "outputs": [],
   "source": [
    "test_acc_per_point = []\n",
    "with torch.no_grad():\n",
    "    for i in range(10000):\n",
    "        pred = torch.argmax(model(test_labels[i].unsqueeze(dim=0))[0]).item()\n",
    "        test_acc_per_point.append(pred == cifar100_test_labels[i])\n",
    "print(np.mean(test_acc_per_point))"
   ]
  },
  {
   "cell_type": "code",
   "execution_count": 34,
   "metadata": {},
   "outputs": [
    {
     "name": "stdout",
     "output_type": "stream",
     "text": [
      "0.4672\n"
     ]
    }
   ],
   "source": [
    "import numpy as np \n",
    "test_acc_per_point = []\n",
    "with torch.no_grad():\n",
    "    for i in range(10000):\n",
    "        pred = torch.argmax(model(cifar100_test[i][0].unsqueeze(dim=0).to(device))[0]).item()\n",
    "        test_acc_per_point.append(pred == cifar100_test_labels[i])\n",
    "print(np.mean(test_acc_per_point))"
   ]
  },
  {
   "cell_type": "code",
   "execution_count": null,
   "metadata": {},
   "outputs": [],
   "source": [
    "import numpy as np \n",
    "\n",
    "with open(\"/home/sjoshi/mtt-distillation/sorted_idx/cifar100_r34_fscores_epoch_200.pkl\", \"rb\") as f:\n",
    "    loaded = pickle.load(f)\n",
    "    fscore = np.zeros(50000)\n",
    "    fscore[np.array(loaded[\"indices\"])] = loaded[\"forgetting counts\"]\n",
    "    "
   ]
  },
  {
   "cell_type": "code",
   "execution_count": null,
   "metadata": {},
   "outputs": [],
   "source": [
    "correct = [i for i in range(10000) if acc_per_point[i]]\n",
    "wrong = [i for i in range(10000) if not acc_per_point[i]]"
   ]
  },
  {
   "cell_type": "code",
   "execution_count": null,
   "metadata": {},
   "outputs": [
    {
     "name": "stderr",
     "output_type": "stream",
     "text": [
      "100%|██████████| 40/40 [00:01<00:00, 22.84it/s]\n"
     ]
    }
   ],
   "source": [
    "test_representations = []\n",
    "with torch.no_grad():\n",
    "    for X, y in tqdm(testloader):\n",
    "        test_representations.append(model.features(X.to(device)).view(-1, 2048))\n",
    "    test_representations = torch.cat(test_representations, dim=0)"
   ]
  },
  {
   "cell_type": "code",
   "execution_count": null,
   "metadata": {},
   "outputs": [],
   "source": [
    "with torch.no_grad():\n",
    "    syn_representations = model.features(images_best.to(device)).view(-1, 2048)"
   ]
  },
  {
   "cell_type": "code",
   "execution_count": null,
   "metadata": {},
   "outputs": [],
   "source": [
    "with open(\"init/cifar100/random_50ipc_2.pkl\", \"rb\") as f:\n",
    "    syn_idx = pickle.load(f)"
   ]
  },
  {
   "cell_type": "code",
   "execution_count": null,
   "metadata": {},
   "outputs": [],
   "source": [
    "partition_syn = {}\n",
    "for i in range(100):\n",
    "    partition_syn[i] = []\n",
    "for i, j in enumerate(syn_idx):\n",
    "    partition_syn[dataset[j][1]].append(i)"
   ]
  },
  {
   "cell_type": "code",
   "execution_count": null,
   "metadata": {},
   "outputs": [
    {
     "name": "stderr",
     "output_type": "stream",
     "text": [
      "100%|██████████| 10000/10000 [01:40<00:00, 99.80it/s]\n"
     ]
    }
   ],
   "source": [
    "sim_to_same_syn = []\n",
    "sim_to_diff_syn = []\n",
    "for i in tqdm(range(10000)):\n",
    "    test_label = cifar100_test_labels[i]\n",
    "    sim_to_same_syn.append(torch.mean(test_representations[i:i+1] @ syn_representations[partition_syn[test_label]].T).item())\n",
    "    curr_diff_sim = []\n",
    "    for j in range(100):\n",
    "        if j == test_label:\n",
    "            continue\n",
    "        curr_diff_sim.append(torch.mean(test_representations[i:i+1] @ syn_representations[partition_syn[j]].T).item())\n",
    "    sim_to_diff_syn.append(np.mean(curr_diff_sim))\n",
    "sim_to_same_syn = np.array(sim_to_same_syn)\n",
    "sim_to_diff_syn = np.array(sim_to_diff_syn)"
   ]
  },
  {
   "cell_type": "code",
   "execution_count": null,
   "metadata": {},
   "outputs": [
    {
     "name": "stdout",
     "output_type": "stream",
     "text": [
      "535.5304243683565 50.099814491966114\n",
      "493.80743034756665 37.59873036435433\n"
     ]
    }
   ],
   "source": [
    "print(np.mean(sim_to_same_syn[correct]), np.std(sim_to_same_syn[correct]))\n",
    "print(np.mean(sim_to_same_syn[wrong]), np.std(sim_to_same_syn[wrong]))"
   ]
  },
  {
   "cell_type": "code",
   "execution_count": null,
   "metadata": {},
   "outputs": [
    {
     "name": "stdout",
     "output_type": "stream",
     "text": [
      "458.11616229930604\n",
      "459.4665628371746\n"
     ]
    }
   ],
   "source": [
    "print(np.mean(sim_to_diff_syn[correct]))\n",
    "print(np.mean(sim_to_diff_syn[wrong]))"
   ]
  },
  {
   "cell_type": "code",
   "execution_count": null,
   "metadata": {},
   "outputs": [],
   "source": [
    "def combine_images(left_image, right_image):\n",
    "    # Ensure both images have the same shape\n",
    "    assert left_image.shape == right_image.shape, \"Images must have the same shape\"\n",
    "\n",
    "    # Get the width of the images\n",
    "    width = left_image.shape[2]\n",
    "\n",
    "    # Split the images into left and right halves\n",
    "    left_half = left_image[:, :, :width // 2]\n",
    "    right_half = right_image[:, :, width // 2:]\n",
    "\n",
    "    # Concatenate the left and right halves to create the combined image\n",
    "    combined_image = torch.cat([left_half, right_half], dim=2)\n",
    "\n",
    "    return combined_image"
   ]
  },
  {
   "cell_type": "code",
   "execution_count": null,
   "metadata": {},
   "outputs": [],
   "source": [
    "def interpolate_acc(class_num):\n",
    "    correct = 0\n",
    "    total = 0\n",
    "    for i in partition_syn[class_num]:\n",
    "        for j in partition_syn[class_num]:\n",
    "            if i == j:\n",
    "                continue \n",
    "            total += 1\n",
    "            interpolated_image = combine_images(images_best[i], images_best[j]).unsqueeze(dim=0).to(device)\n",
    "            with torch.no_grad():\n",
    "                if torch.argmax(clf(model.features(interpolated_image).view(-1, 2048))[0]).item() == class_num:\n",
    "                    correct += 1\n",
    "                    \n",
    "    return correct / total * 100\n",
    "            "
   ]
  },
  {
   "cell_type": "code",
   "execution_count": null,
   "metadata": {},
   "outputs": [
    {
     "data": {
      "text/plain": [
       "68.75952658321724"
      ]
     },
     "execution_count": 47,
     "metadata": {},
     "output_type": "execute_result"
    }
   ],
   "source": [
    "interpolated_accs = [interpolate_acc(i) for i in range(100)]"
   ]
  }
 ],
 "metadata": {
  "kernelspec": {
   "display_name": "distillation",
   "language": "python",
   "name": "python3"
  },
  "language_info": {
   "codemirror_mode": {
    "name": "ipython",
    "version": 3
   },
   "file_extension": ".py",
   "mimetype": "text/x-python",
   "name": "python",
   "nbconvert_exporter": "python",
   "pygments_lexer": "ipython3",
   "version": "3.9.7"
  }
 },
 "nbformat": 4,
 "nbformat_minor": 2
}
