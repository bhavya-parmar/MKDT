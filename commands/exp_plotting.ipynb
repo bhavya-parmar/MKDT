{
 "cells": [
  {
   "cell_type": "code",
   "execution_count": 5,
   "metadata": {},
   "outputs": [],
   "source": [
    "import os\n",
    "import re\n",
    "import pandas as pd\n",
    "from tabulate import tabulate\n",
    "from IPython.display import display\n",
    "\n",
    "def extract_metrics_from_file(file_path):\n",
    "    metrics = {}\n",
    "    with open(file_path, 'r') as file:\n",
    "        for line in file:\n",
    "            match = re.match(r'(\\w+): ([\\d.]+) ± ([\\d.]+)', line)\n",
    "            if match:\n",
    "                dataset = match.group(1)\n",
    "                mean = float(match.group(2))\n",
    "                std = float(match.group(3))\n",
    "                metrics[dataset] = f\"{mean} ± {std}\"\n",
    "    return metrics\n",
    "\n",
    "def print_table_pretty(df, title):\n",
    "    print(f\"\\n{title}\\n\" + \"=\" * len(title))\n",
    "    print(tabulate(df, headers='keys', tablefmt='pretty', showindex=False))\n",
    "\n",
    "def create_table(folder_path):\n",
    "    all_metrics = []\n",
    "    methods = []\n",
    "    \n",
    "    for file_name in os.listdir(folder_path):\n",
    "        file_path = os.path.join(folder_path, file_name)\n",
    "        if os.path.isfile(file_path) and file_name.endswith('.txt'):\n",
    "            methods.append(file_name)\n",
    "            metrics = extract_metrics_from_file(file_path)\n",
    "            all_metrics.append(metrics)\n",
    "    \n",
    "    all_datasets = set()\n",
    "    for metrics in all_metrics:\n",
    "        all_datasets.update(metrics.keys())\n",
    "    \n",
    "    df = pd.DataFrame(columns=[\"Method\"] + sorted(all_datasets))\n",
    "    \n",
    "    rows = []\n",
    "    for i, metrics in enumerate(all_metrics):\n",
    "        row = {\"Method\": methods[i]}\n",
    "        row.update(metrics)\n",
    "        rows.append(pd.DataFrame([row], columns=df.columns))\n",
    "    \n",
    "    df = pd.concat(rows, ignore_index=True)\n",
    "    print_table_pretty(df, folder_path)\n",
    "    \n",
    "    return df\n",
    "\n",
    "pd.set_option('display.max_columns', None)\n",
    "pd.set_option('display.expand_frame_repr', False)\n",
    "pd.set_option('display.colheader_justify', 'center')\n"
   ]
  },
  {
   "cell_type": "code",
   "execution_count": 12,
   "metadata": {},
   "outputs": [
    {
     "name": "stdout",
     "output_type": "stream",
     "text": [
      "\n",
      "/home/jennyni/ssl-mtt/experiment_results/cifar10_2per_0.01_labeled_data/2024-10-14_19-16-53\n",
      "===========================================================================================\n",
      "+----------------------------+--------------+--------------+-------------+-------------+-------------+-------------+-------------+\n",
      "|           Method           |   CIFAR10    |   CIFAR100   |    Tiny     |  aircraft   |   cub2011   |    dogs     |   flowers   |\n",
      "+----------------------------+--------------+--------------+-------------+-------------+-------------+-------------+-------------+\n",
      "|   cifar10_nopretrain.txt   |  10.0 ± 0.0  | 1.08 ± 0.09  | 0.69 ± 0.2  | 0.99 ± 0.02 | 0.51 ± 0.01 | 0.6 ± 0.01  | 1.64 ± 0.63 |\n",
      "|    cifar10_sas_2per.txt    | 38.11 ± 0.4  | 8.68 ± 0.21  | 2.89 ± 0.26 | 1.99 ± 0.34 | 1.28 ± 0.07 | 1.84 ± 0.13 | 2.42 ± 0.38 |\n",
      "|  cifar10_random_2per.txt   | 38.25 ± 0.69 | 9.13 ± 0.23  | 3.1 ± 0.21  | 1.88 ± 0.32 | 1.2 ± 0.16  | 1.83 ± 0.04 | 2.55 ± 0.44 |\n",
      "| cifar10_mkdt_high_2per.txt | 41.42 ± 0.42 | 10.97 ± 0.85 | 4.49 ± 0.36 | 2.07 ± 0.35 | 1.06 ± 0.19 | 1.81 ± 0.09 | 3.02 ± 1.02 |\n",
      "|   cifar10_krrst_2per.txt   | 22.14 ± 1.3  | 2.91 ± 0.23  | 1.36 ± 0.23 | 1.08 ± 0.07 | 0.63 ± 0.07 | 0.81 ± 0.1  | 1.65 ± 1.14 |\n",
      "+----------------------------+--------------+--------------+-------------+-------------+-------------+-------------+-------------+\n"
     ]
    }
   ],
   "source": [
    "table = create_table('/home/jennyni/ssl-mtt/experiment_results/cifar10_2per_0.01_labeled_data/2024-10-14_19-16-53')"
   ]
  },
  {
   "cell_type": "code",
   "execution_count": 13,
   "metadata": {},
   "outputs": [
    {
     "name": "stdout",
     "output_type": "stream",
     "text": [
      "\n",
      "/home/jennyni/ssl-mtt/experiment_results/cifar10_2per_0.05_labeled_data/2024-10-14_19-16-51\n",
      "===========================================================================================\n",
      "+----------------------------+--------------+--------------+-------------+-------------+-------------+-------------+-------------+\n",
      "|           Method           |   CIFAR10    |   CIFAR100   |    Tiny     |  aircraft   |   cub2011   |    dogs     |   flowers   |\n",
      "+----------------------------+--------------+--------------+-------------+-------------+-------------+-------------+-------------+\n",
      "|   cifar10_nopretrain.txt   | 16.44 ± 5.24 | 1.03 ± 0.04  | 2.11 ± 0.45 | 1.02 ± 0.04 | 0.51 ± 0.01 | 0.84 ± 0.21 | 0.84 ± 0.26 |\n",
      "|  cifar10_random_2per.txt   | 48.8 ± 0.23  | 16.23 ± 0.77 | 6.49 ± 0.3  | 3.84 ± 0.53 | 1.61 ± 0.07 | 2.68 ± 0.29 | 4.89 ± 0.26 |\n",
      "|    cifar10_sas_2per.txt    | 48.08 ± 0.65 | 16.24 ± 0.97 | 6.77 ± 0.41 | 4.06 ± 0.56 | 1.52 ± 0.25 | 2.84 ± 0.22 | 5.27 ± 0.49 |\n",
      "| cifar10_mkdt_high_2per.txt | 53.89 ± 1.2  | 21.05 ± 0.46 | 9.9 ± 0.52  | 2.91 ± 0.47 | 1.69 ± 0.09 | 3.19 ± 0.21 | 5.04 ± 1.37 |\n",
      "|   cifar10_krrst_2per.txt   | 43.61 ± 0.43 | 13.55 ± 0.74 | 6.12 ± 0.47 | 2.5 ± 1.32  | 1.0 ± 0.12  | 1.08 ± 0.17 | 1.88 ± 0.73 |\n",
      "+----------------------------+--------------+--------------+-------------+-------------+-------------+-------------+-------------+\n"
     ]
    }
   ],
   "source": [
    "table = create_table('/home/jennyni/ssl-mtt/experiment_results/cifar10_2per_0.05_labeled_data/2024-10-14_19-16-51')"
   ]
  },
  {
   "cell_type": "code",
   "execution_count": 14,
   "metadata": {},
   "outputs": [
    {
     "name": "stdout",
     "output_type": "stream",
     "text": [
      "\n",
      "/home/jennyni/ssl-mtt/experiment_results/cifar100_2per_0.01_labeled_data/2024-10-14_19-17-02\n",
      "============================================================================================\n",
      "+-------------------------------+--------------+--------------+-------------+-------------+-------------+-------------+-------------+\n",
      "|            Method             |   CIFAR10    |   CIFAR100   |    Tiny     |  aircraft   |   cub2011   |    dogs     |   flowers   |\n",
      "+-------------------------------+--------------+--------------+-------------+-------------+-------------+-------------+-------------+\n",
      "| cifar100_nopretrain_2per.txt  |  10.0 ± 0.0  | 1.08 ± 0.09  | 0.69 ± 0.2  | 0.99 ± 0.02 | 0.51 ± 0.01 | 0.6 ± 0.01  | 1.64 ± 0.63 |\n",
      "|     cifar100_hl_2per.txt      | 42.39 ± 0.14 | 11.71 ± 0.31 | 5.01 ± 0.15 | 1.7 ± 0.28  | 1.21 ± 0.17 | 2.1 ± 0.22  | 1.5 ± 0.63  |\n",
      "|   cifar100_random_2per.txt    | 40.96 ± 0.65 | 10.78 ± 0.55 | 4.55 ± 0.37 | 1.91 ± 0.31 | 1.23 ± 0.13 | 1.9 ± 0.15  | 2.74 ± 0.62 |\n",
      "|     cifar100_sas_2per.txt     | 40.67 ± 0.62 | 11.21 ± 0.42 | 4.65 ± 0.29 | 2.11 ± 0.25 | 1.29 ± 0.09 | 1.85 ± 0.22 | 1.55 ± 0.36 |\n",
      "| cifar100_mkdt_random_2per.txt | 42.75 ± 2.09 | 12.17 ± 0.13 | 5.45 ± 0.23 | 1.68 ± 0.18 | 1.29 ± 0.15 | 1.73 ± 0.1  | 2.73 ± 0.81 |\n",
      "|  cifar100_mkdt_high_2per.txt  | 43.46 ± 0.16 | 12.71 ± 0.44 | 5.5 ± 0.28  | 1.68 ± 0.23 | 1.17 ± 0.09 | 1.86 ± 0.15 | 1.84 ± 1.15 |\n",
      "|    cifar100_krrst_2per.txt    | 34.29 ± 0.82 | 8.14 ± 0.16  | 3.01 ± 0.09 | 2.01 ± 0.42 | 1.17 ± 0.11 | 1.82 ± 0.19 | 2.98 ± 0.75 |\n",
      "+-------------------------------+--------------+--------------+-------------+-------------+-------------+-------------+-------------+\n"
     ]
    }
   ],
   "source": [
    "table = create_table('/home/jennyni/ssl-mtt/experiment_results/cifar100_2per_0.01_labeled_data/2024-10-14_19-17-02')"
   ]
  },
  {
   "cell_type": "code",
   "execution_count": 15,
   "metadata": {},
   "outputs": [
    {
     "name": "stdout",
     "output_type": "stream",
     "text": [
      "\n",
      "/home/jennyni/ssl-mtt/experiment_results/cifar100_2per_0.05_labeled_data/2024-10-14_19-17-08\n",
      "============================================================================================\n",
      "+-------------------------------+--------------+--------------+--------------+-------------+-------------+-------------+-------------+\n",
      "|            Method             |   CIFAR10    |   CIFAR100   |     Tiny     |  aircraft   |   cub2011   |    dogs     |   flowers   |\n",
      "+-------------------------------+--------------+--------------+--------------+-------------+-------------+-------------+-------------+\n",
      "| cifar100_nopretrain_2per.txt  | 16.44 ± 5.24 | 1.03 ± 0.04  | 2.11 ± 0.45  | 1.02 ± 0.04 | 0.51 ± 0.01 | 0.84 ± 0.21 | 0.84 ± 0.26 |\n",
      "|   cifar100_random_2per.txt    | 52.45 ± 0.53 | 20.24 ± 0.51 |  8.97 ± 0.3  | 3.32 ± 0.28 | 1.88 ± 0.24 | 3.17 ± 0.25 | 5.77 ± 0.92 |\n",
      "|     cifar100_hl_2per.txt      | 53.4 ± 0.67  | 21.77 ± 0.07 | 10.69 ± 0.52 | 3.13 ± 0.59 | 2.07 ± 0.32 | 3.23 ± 0.19 | 6.33 ± 0.73 |\n",
      "|     cifar100_sas_2per.txt     | 51.84 ± 0.29 | 20.37 ± 0.56 | 9.15 ± 0.16  | 3.15 ± 0.34 | 1.99 ± 0.11 | 3.14 ± 0.06 | 5.98 ± 0.82 |\n",
      "| cifar100_mkdt_random_2per.txt | 54.08 ± 1.06 | 21.99 ± 0.25 | 10.57 ± 0.22 | 2.63 ± 0.39 | 2.0 ± 0.09  | 3.4 ± 0.26  | 5.94 ± 0.73 |\n",
      "|  cifar100_mkdt_high_2per.txt  | 55.42 ± 0.26 | 24.13 ± 0.38 | 11.45 ± 0.63 | 3.08 ± 0.43 | 2.05 ± 0.24 | 3.22 ± 0.34 | 6.28 ± 0.91 |\n",
      "|    cifar100_krrst_2per.txt    | 48.1 ± 0.23  | 18.04 ± 0.13 |  8.2 ± 0.21  | 3.44 ± 0.26 | 1.75 ± 0.18 | 3.02 ± 0.31 | 4.85 ± 0.75 |\n",
      "+-------------------------------+--------------+--------------+--------------+-------------+-------------+-------------+-------------+\n"
     ]
    }
   ],
   "source": [
    "table = create_table('/home/jennyni/ssl-mtt/experiment_results/cifar100_2per_0.05_labeled_data/2024-10-14_19-17-08')"
   ]
  },
  {
   "cell_type": "code",
   "execution_count": 17,
   "metadata": {},
   "outputs": [
    {
     "name": "stdout",
     "output_type": "stream",
     "text": [
      "\n",
      "/home/jennyni/ssl-mtt/experiment_results/tiny_2per_0.01_labeled_data/2024-10-14_19-19-42\n",
      "========================================================================================\n",
      "+-------------------------+--------------+-------------+-------------+-------------+------------+-------------+-------------+\n",
      "|         Method          |   CIFAR10    |  CIFAR100   |    Tiny     |  aircraft   |  cub2011   |    dogs     |   flowers   |\n",
      "+-------------------------+--------------+-------------+-------------+-------------+------------+-------------+-------------+\n",
      "|   tiny_nopretrain.txt   | 10.12 ± 0.17 | 1.01 ± 0.02 | 0.53 ± 0.04 | 0.99 ± 0.0  | 0.52 ± 0.0 | 0.62 ± 0.06 | 1.02 ± 0.41 |\n",
      "|  tiny_random_2per.txt   | 36.83 ± 1.91 | 8.27 ± 0.61 | 4.79 ± 0.36 | 1.3 ± 0.27  | 1.13 ± 0.2 | 1.55 ± 0.04 | 2.8 ± 0.86  |\n",
      "| tiny_mkdt_high_2per.txt | 32.35 ± 1.6  | 7.52 ± 0.8  | 5.42 ± 0.12 | 1.54 ± 0.18 | 0.94 ± 0.2 | 1.5 ± 0.16  | 2.05 ± 0.25 |\n",
      "|   tiny_krrst_2per.txt   | 35.28 ± 1.44 | 8.49 ± 0.77 | 4.89 ± 0.37 | 1.27 ± 0.28 | 1.26 ± 0.2 | 1.66 ± 0.18 | 3.05 ± 0.84 |\n",
      "+-------------------------+--------------+-------------+-------------+-------------+------------+-------------+-------------+\n"
     ]
    }
   ],
   "source": [
    "table = create_table('/home/jennyni/ssl-mtt/experiment_results/tiny_2per_0.01_labeled_data/2024-10-14_19-19-42')"
   ]
  },
  {
   "cell_type": "code",
   "execution_count": 18,
   "metadata": {},
   "outputs": [
    {
     "name": "stdout",
     "output_type": "stream",
     "text": [
      "\n",
      "/home/jennyni/ssl-mtt/experiment_results/tiny_2per_0.05_labeled_data/2024-10-14_19-19-52\n",
      "========================================================================================\n",
      "+-------------------------+--------------+--------------+--------------+-------------+-------------+-------------+-------------+\n",
      "|         Method          |   CIFAR10    |   CIFAR100   |     Tiny     |  aircraft   |   cub2011   |    dogs     |   flowers   |\n",
      "+-------------------------+--------------+--------------+--------------+-------------+-------------+-------------+-------------+\n",
      "|   tiny_nopretrain.txt   | 11.34 ± 1.86 | 1.09 ± 0.13  | 1.24 ± 0.36  | 1.0 ± 0.01  | 0.52 ± 0.0  | 0.77 ± 0.25 | 1.13 ± 0.28 |\n",
      "|  tiny_random_2per.txt   | 46.37 ± 0.53 | 15.95 ± 0.47 | 10.77 ± 0.37 | 1.24 ± 0.21 | 1.73 ± 0.21 | 2.44 ± 0.3  | 4.34 ± 0.79 |\n",
      "| tiny_mkdt_high_2per.txt | 46.17 ± 0.32 | 16.67 ± 0.66 | 13.47 ± 0.35 | 1.67 ± 0.15 | 1.52 ± 0.25 | 2.1 ± 0.56  | 4.27 ± 0.52 |\n",
      "|   tiny_krrst_2per.txt   | 47.88 ± 1.15 | 15.45 ± 0.49 | 10.41 ± 0.13 | 1.94 ± 0.19 | 1.79 ± 0.17 | 2.59 ± 0.1  | 4.42 ± 0.23 |\n",
      "+-------------------------+--------------+--------------+--------------+-------------+-------------+-------------+-------------+\n"
     ]
    }
   ],
   "source": [
    "table = create_table('/home/jennyni/ssl-mtt/experiment_results/tiny_2per_0.05_labeled_data/2024-10-14_19-19-52')"
   ]
  },
  {
   "cell_type": "code",
   "execution_count": null,
   "metadata": {},
   "outputs": [],
   "source": []
  }
 ],
 "metadata": {
  "kernelspec": {
   "display_name": "base",
   "language": "python",
   "name": "base"
  },
  "language_info": {
   "codemirror_mode": {
    "name": "ipython",
    "version": 3
   },
   "file_extension": ".py",
   "mimetype": "text/x-python",
   "name": "python",
   "nbconvert_exporter": "python",
   "pygments_lexer": "ipython3",
   "version": "3.10.10"
  }
 },
 "nbformat": 4,
 "nbformat_minor": 2
}
